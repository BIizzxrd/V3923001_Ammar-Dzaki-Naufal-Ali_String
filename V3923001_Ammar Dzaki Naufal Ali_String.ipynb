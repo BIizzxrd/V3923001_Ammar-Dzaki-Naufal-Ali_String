{
 "cells": [
  {
   "cell_type": "code",
   "execution_count": 1,
   "id": "30e66c8d",
   "metadata": {},
   "outputs": [
    {
     "name": "stdout",
     "output_type": "stream",
     "text": [
      "Masukkan Nama Anda: Ammar Dzaki Naufal Ali\n",
      "Jumlah huruf dari nama lengkap: 19\n",
      "Jumlah huruf vokal dari nama lengkap: 9\n",
      "Jumlah huruf konsonan dari nama lengkap: 10\n"
     ]
    }
   ],
   "source": [
    "nama_pengguna = input(\"Masukkan Nama Anda: \")\n",
    "\n",
    "\n",
    "def hitung_jumlah_huruf(nama):\n",
    "    jumlah_huruf = len(nama.replace(\" \", \"\"))\n",
    "    return jumlah_huruf\n",
    "\n",
    "def hitung_jumlah_vokal(nama):\n",
    "    vokal = 'aiueoAIUEO'\n",
    "    jumlah_vokal = sum(1 for huruf in nama if huruf in vokal)\n",
    "    return jumlah_vokal\n",
    "\n",
    "def hitung_jumlah_konsonan(nama):\n",
    "    konsonan = 'bcdfghjklmnpqrstvwxyzBCDFGHJKLMNPQRSTVWXYZ'\n",
    "    jumlah_konsonan = sum(1 for huruf in nama if huruf in konsonan)\n",
    "    return jumlah_konsonan\n",
    "\n",
    "# Hitung jumlah huruf dari nama lengkap\n",
    "jumlah_huruf = hitung_jumlah_huruf(nama_pengguna)\n",
    "print(\"Jumlah huruf dari nama lengkap:\", jumlah_huruf)\n",
    "\n",
    "# Hitung jumlah huruf vokal dari nama lengkap\n",
    "jumlah_vokal = hitung_jumlah_vokal(nama_pengguna)\n",
    "print(\"Jumlah huruf vokal dari nama lengkap:\", jumlah_vokal)\n",
    "\n",
    "# Hitung jumlah huruf konsonan dari nama lengkap\n",
    "jumlah_konsonan = hitung_jumlah_konsonan(nama_pengguna)\n",
    "print(\"Jumlah huruf konsonan dari nama lengkap:\", jumlah_konsonan)\n"
   ]
  }
 ],
 "metadata": {
  "kernelspec": {
   "display_name": "Python 3 (ipykernel)",
   "language": "python",
   "name": "python3"
  },
  "language_info": {
   "codemirror_mode": {
    "name": "ipython",
    "version": 3
   },
   "file_extension": ".py",
   "mimetype": "text/x-python",
   "name": "python",
   "nbconvert_exporter": "python",
   "pygments_lexer": "ipython3",
   "version": "3.11.5"
  }
 },
 "nbformat": 4,
 "nbformat_minor": 5
}
